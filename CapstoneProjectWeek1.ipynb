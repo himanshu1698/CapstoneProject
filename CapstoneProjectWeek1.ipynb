{
 "cells": [
  {
   "cell_type": "markdown",
   "metadata": {},
   "source": [
    "# Battle of Neighborhoods - Chasing neighborhoods with best foods"
   ]
  },
  {
   "cell_type": "markdown",
   "metadata": {},
   "source": [
    "## Mumbai India!"
   ]
  },
  {
   "cell_type": "markdown",
   "metadata": {},
   "source": [
    "## Introduction:"
   ]
  },
  {
   "cell_type": "markdown",
   "metadata": {},
   "source": [
    "Mumbai, a city located on the shore of Arabian Sea, on the western coast of India, is one of the most populous cities in the world.  The project helps in finding out the localities in Mumbai, India having the best food places. The project helps in analysing the which localities has the best cuisines. Also, providing information about ratings given to these restaurants by diners. Being a multicultural city, the city has wide varity of traditional Indian as well as International Cuisines.\n",
    "At the end of the project, we would be able to answer several questions like\n",
    "What is the best locality for traditional Indian cuisines?\n",
    "Localitites with highest rated restaurants\n",
    "Which areas have lowset number of restaurants?\n",
    "\n",
    "Gaining insights from this data, anyone who wants to set up his new buisness in this field can check for its feasibility.They can decide upon the localities where they want to come up and cuisines they would like to offer.\n"
   ]
  },
  {
   "cell_type": "markdown",
   "metadata": {},
   "source": [
    "## Datasets Used:"
   ]
  },
  {
   "cell_type": "markdown",
   "metadata": {},
   "source": [
    "1. Zomato Dataset:\n",
    "\n",
    "[Zomato Data set-Indian restaurants](https://www.kaggle.com/rabhar/zomato-restaurants-in-india)\n",
    "\n",
    "\n",
    "This zomato exploratory data analysis is for the foodies to find best restaurants, value for money restaurants in their locality. It also helps to find their required cuisines in their locality.The data is collected using zomato API.The extraction process involves two steps. In first step the city IDs of all the zomato available cities in India are stored using zomato \"/cities\" API. In the second step using these city IDs, restaurant details in the respective cities are stored in comma separated file (csv).\n",
    "The dataset is quite rich with details of 100k+ restaurants like locality, ratings, types of cuisine availabe.\n",
    "\n",
    "\n",
    "\n",
    "\n"
   ]
  },
  {
   "cell_type": "markdown",
   "metadata": {},
   "source": [
    "2. Foursquare API:\n",
    "\n",
    "\n",
    "The This API has a database of more than 105 million places. This project would use Four-square API as its prime data gathering source. Many organizations are using to geo-tag their photos with detailed info about a destination, while also serving up contextually relevant locations for those who are searching for a place to eat, drink or explore. This API provides the ability to perform location search, location sharing and details about a business. Foursquare users can also use photos, tips and reviews in many productive ways to add value to the results. It is used to extract information of different venues in the localities based on thier latitudes and longitudes.\n",
    "\n"
   ]
  },
  {
   "cell_type": "code",
   "execution_count": null,
   "metadata": {},
   "outputs": [],
   "source": []
  }
 ],
 "metadata": {
  "kernelspec": {
   "display_name": "Python 3",
   "language": "python",
   "name": "python3"
  },
  "language_info": {
   "codemirror_mode": {
    "name": "ipython",
    "version": 3
   },
   "file_extension": ".py",
   "mimetype": "text/x-python",
   "name": "python",
   "nbconvert_exporter": "python",
   "pygments_lexer": "ipython3",
   "version": "3.7.6"
  }
 },
 "nbformat": 4,
 "nbformat_minor": 4
}
